{
 "cells": [
  {
   "cell_type": "code",
   "execution_count": 1,
   "id": "2699d42d",
   "metadata": {},
   "outputs": [],
   "source": [
    "import geopandas as gpd"
   ]
  },
  {
   "cell_type": "markdown",
   "id": "26b5f9c9",
   "metadata": {},
   "source": [
    "The data source is [US drought monitor](https://droughtmonitor.unl.edu/DmData/GISData.aspx)."
   ]
  },
  {
   "cell_type": "code",
   "execution_count": 2,
   "id": "11ff1dc4",
   "metadata": {},
   "outputs": [],
   "source": [
    "df = gpd.read_file(\"USDM_20000718_M.zip\")"
   ]
  },
  {
   "cell_type": "code",
   "execution_count": 10,
   "id": "05969c01",
   "metadata": {},
   "outputs": [
    {
     "data": {
      "text/plain": [
       "OBJECTID         int64\n",
       "DM               int64\n",
       "Shape_Leng     float64\n",
       "Shape_Area     float64\n",
       "geometry      geometry\n",
       "dtype: object"
      ]
     },
     "execution_count": 10,
     "metadata": {},
     "output_type": "execute_result"
    }
   ],
   "source": [
    "df.dtypes"
   ]
  },
  {
   "cell_type": "code",
   "execution_count": 4,
   "id": "202e74a7",
   "metadata": {},
   "outputs": [],
   "source": [
    "df.to_file(\"2000_summer.geojson\", driver='GeoJSON')"
   ]
  },
  {
   "cell_type": "code",
   "execution_count": 11,
   "id": "5dc1ad0d",
   "metadata": {},
   "outputs": [],
   "source": [
    "df2 = gpd.read_file(\"USDM_20220719_M.zip\")"
   ]
  },
  {
   "cell_type": "code",
   "execution_count": 12,
   "id": "d62f721b",
   "metadata": {},
   "outputs": [
    {
     "data": {
      "text/html": [
       "<div>\n",
       "<style scoped>\n",
       "    .dataframe tbody tr th:only-of-type {\n",
       "        vertical-align: middle;\n",
       "    }\n",
       "\n",
       "    .dataframe tbody tr th {\n",
       "        vertical-align: top;\n",
       "    }\n",
       "\n",
       "    .dataframe thead th {\n",
       "        text-align: right;\n",
       "    }\n",
       "</style>\n",
       "<table border=\"1\" class=\"dataframe\">\n",
       "  <thead>\n",
       "    <tr style=\"text-align: right;\">\n",
       "      <th></th>\n",
       "      <th>OBJECTID</th>\n",
       "      <th>DM</th>\n",
       "      <th>Shape_Leng</th>\n",
       "      <th>Shape_Area</th>\n",
       "      <th>geometry</th>\n",
       "    </tr>\n",
       "  </thead>\n",
       "  <tbody>\n",
       "    <tr>\n",
       "      <th>0</th>\n",
       "      <td>1</td>\n",
       "      <td>0</td>\n",
       "      <td>7.613699e+07</td>\n",
       "      <td>1.747690e+12</td>\n",
       "      <td>MULTIPOLYGON (((-67.17698 18.00918, -67.17753 ...</td>\n",
       "    </tr>\n",
       "    <tr>\n",
       "      <th>1</th>\n",
       "      <td>2</td>\n",
       "      <td>1</td>\n",
       "      <td>5.929231e+07</td>\n",
       "      <td>1.347901e+12</td>\n",
       "      <td>MULTIPOLYGON (((-66.61747 17.96383, -66.61745 ...</td>\n",
       "    </tr>\n",
       "    <tr>\n",
       "      <th>2</th>\n",
       "      <td>3</td>\n",
       "      <td>2</td>\n",
       "      <td>4.884533e+07</td>\n",
       "      <td>1.401943e+12</td>\n",
       "      <td>MULTIPOLYGON (((-66.60739 18.05543, -66.64189 ...</td>\n",
       "    </tr>\n",
       "    <tr>\n",
       "      <th>3</th>\n",
       "      <td>4</td>\n",
       "      <td>3</td>\n",
       "      <td>3.275533e+07</td>\n",
       "      <td>1.054571e+12</td>\n",
       "      <td>MULTIPOLYGON (((-97.18680 27.81902, -97.18530 ...</td>\n",
       "    </tr>\n",
       "    <tr>\n",
       "      <th>4</th>\n",
       "      <td>5</td>\n",
       "      <td>4</td>\n",
       "      <td>1.084703e+07</td>\n",
       "      <td>3.511985e+11</td>\n",
       "      <td>MULTIPOLYGON (((-96.32997 29.36040, -96.37077 ...</td>\n",
       "    </tr>\n",
       "  </tbody>\n",
       "</table>\n",
       "</div>"
      ],
      "text/plain": [
       "   OBJECTID  DM    Shape_Leng    Shape_Area  \\\n",
       "0         1   0  7.613699e+07  1.747690e+12   \n",
       "1         2   1  5.929231e+07  1.347901e+12   \n",
       "2         3   2  4.884533e+07  1.401943e+12   \n",
       "3         4   3  3.275533e+07  1.054571e+12   \n",
       "4         5   4  1.084703e+07  3.511985e+11   \n",
       "\n",
       "                                            geometry  \n",
       "0  MULTIPOLYGON (((-67.17698 18.00918, -67.17753 ...  \n",
       "1  MULTIPOLYGON (((-66.61747 17.96383, -66.61745 ...  \n",
       "2  MULTIPOLYGON (((-66.60739 18.05543, -66.64189 ...  \n",
       "3  MULTIPOLYGON (((-97.18680 27.81902, -97.18530 ...  \n",
       "4  MULTIPOLYGON (((-96.32997 29.36040, -96.37077 ...  "
      ]
     },
     "execution_count": 12,
     "metadata": {},
     "output_type": "execute_result"
    }
   ],
   "source": [
    "df2.head()"
   ]
  },
  {
   "cell_type": "code",
   "execution_count": 13,
   "id": "b8993456",
   "metadata": {},
   "outputs": [],
   "source": [
    "df2.to_file(\"2022_summer.geojson\", driver='GeoJSON')"
   ]
  }
 ],
 "metadata": {
  "kernelspec": {
   "display_name": "Python 3 (ipykernel)",
   "language": "python",
   "name": "python3"
  },
  "language_info": {
   "codemirror_mode": {
    "name": "ipython",
    "version": 3
   },
   "file_extension": ".py",
   "mimetype": "text/x-python",
   "name": "python",
   "nbconvert_exporter": "python",
   "pygments_lexer": "ipython3",
   "version": "3.9.7"
  }
 },
 "nbformat": 4,
 "nbformat_minor": 5
}
